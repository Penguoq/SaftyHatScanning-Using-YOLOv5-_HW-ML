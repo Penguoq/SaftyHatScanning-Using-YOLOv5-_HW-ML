{
 "cells": [
  {
   "cell_type": "markdown",
   "id": "479ae539",
   "metadata": {},
   "source": [
    "# HatScan – YOLOv5 Inference (Colab-friendly)"
   ]
  },
  {
   "cell_type": "code",
   "execution_count": null,
   "id": "773efb80",
   "metadata": {},
   "outputs": [],
   "source": [
    "# Install YOLOv5 (runtime only)\n",
    "!pip -q install git+https://github.com/ultralytics/yolov5.git\n",
    "!pip -q install opencv-python Pillow matplotlib numpy"
   ]
  },
  {
   "cell_type": "code",
   "execution_count": null,
   "id": "61c49034",
   "metadata": {},
   "outputs": [],
   "source": [
    "# Show environment info (optional)\n",
    "import torch, sys, os, cv2, yaml\n",
    "print('Torch:', torch.__version__)"
   ]
  },
  {
   "cell_type": "markdown",
   "id": "c05534e9",
   "metadata": {},
   "source": [
    "## Place your weights\n",
    "- Upload your `.pt` to `weights/` (or mount Drive and point to it)."
   ]
  },
  {
   "cell_type": "code",
   "execution_count": null,
   "id": "bd4af8d5",
   "metadata": {},
   "outputs": [],
   "source": [
    "# Run detection on sample images\n",
    "from yolov5 import detect\n",
    "source = 'assets/samples'  # put images here\n",
    "weights = 'weights/bestSaftyHatScanaaaaaaa.pt'  # change if needed\n",
    "detect.run(weights=weights, source=source, imgsz=640, conf_thres=0.25)"
   ]
  },
  {
   "cell_type": "markdown",
   "id": "322f7f41",
   "metadata": {},
   "source": [
    "The results will appear under `runs/detect/exp*`. You can display them or download."
   ]
  }
 ],
 "metadata": {},
 "nbformat": 4,
 "nbformat_minor": 5
}
